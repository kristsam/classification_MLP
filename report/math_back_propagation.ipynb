{
 "metadata": {
  "language_info": {
   "codemirror_mode": {
    "name": "ipython",
    "version": 3
   },
   "file_extension": ".py",
   "mimetype": "text/x-python",
   "name": "python",
   "nbconvert_exporter": "python",
   "pygments_lexer": "ipython3",
   "version": "3.7.2"
  },
  "orig_nbformat": 2,
  "kernelspec": {
   "name": "python372jvsc74a57bd06a559b5a981d0a243d4dcf737d42ed3864cbb798fc21192270146c992d68d5ca",
   "display_name": "Python 3.7.2 64-bit"
  },
  "metadata": {
   "interpreter": {
    "hash": "6a559b5a981d0a243d4dcf737d42ed3864cbb798fc21192270146c992d68d5ca"
   }
  }
 },
 "nbformat": 4,
 "nbformat_minor": 2,
 "cells": [
  {
   "source": [
    "# Hiddens' layer weight cost derivative.\n",
    "The computation for hiddens' layer weight cost derivative was based on back propagation and chain rule. There are some variables defined as to be more simple. The `h` function can be `softplus`, or `tanh`, or `cos`.   \n",
    "\n",
    "$$\n",
    "y_{nk}=\\frac{e^{{{w_k^{(2)}}^T}\\cdot z_n}}{\\sum_{j}^{K}e^{{{w_j^{(2)}}^T}\\cdot z_n}}\n",
    "$$\n",
    "\n",
    "$$\n",
    "a_{nk}= {w_k^{(2)}}^T \\cdot z_n\n",
    "$$\n",
    "\n",
    "\\begin{multline}\n",
    "E(x)= \\sum_{n=1}^{Nb}\\sum_{k=1}^{K}t_{nk}\\cdot \\log(y_{nk}) - \\frac{\\lambda}{2} \\cdot \\Vert W^{(2)}\\Vert^2 - \\frac{\\lambda}{2} \\cdot \\Vert W^{(1)}\\Vert^2\n",
    "=\\sum_{n=1}^{Nb}\\sum_{k=1}^{K}t_{nk}\\cdot \\log\\bigg(\\frac{e^{{w_k^{(2)}}^T\\cdot z_n}}{\\sum_{j}^{K}e^{{w_j^{(2)}}^T}\\cdot z_n}\\bigg) - \\frac{\\lambda}{2} \\cdot \\Vert W^{(2)}\\Vert^2 - \\frac{\\lambda}{2} \\cdot \\Vert W^{(1)}\\Vert^2 \\\\\n",
    "=\\sum_{n=1}^{Nb}\\sum_{k=1}^{K} t_{nk} \\cdot \\big[{w_k^{(2)}}^T \\cdot z_n - \\log\\big(\\sum_{j}^{K}e^{{w_j^{(2)}}^T\\cdot z_n} \\big)\\big] - \\frac{\\lambda}{2} \\cdot \\Vert W^{(2)}\\Vert^2 - \\frac{\\lambda}{2} \\cdot \\Vert W^{(1)}\\Vert^2 \\\\\n",
    "=\\sum_{n=1}^{Nb}\\sum_{k=1}^{K} \\big[ t_{nk} \\cdot a_{nk} - t_{nk} \\cdot \\log\\big( \\sum_{j}^{K}e^{a_{nj}} \\big) \\big] - \\frac{\\lambda}{2} \\cdot \\Vert W^{(2)}\\Vert^2 - \\frac{\\lambda}{2} \\cdot \\Vert W^{(1)}\\Vert^2 \n",
    "\\end{multline}\n",
    "\n",
    "$\n",
    "Q_n = E_n - \\frac{\\lambda}{2} \\cdot \\Vert W^{(2)}\\Vert^2 - \\frac{\\lambda}{2} \\cdot \\Vert W^{(1)}\\Vert^2 \\\\\n",
    "$\n",
    "\n",
    "\\begin{multline}\n",
    "Q_n=\\sum_{k=1}^{K}t_{nk} \\cdot a_{nk} -\\sum_{k=1}^{K} t_nk \\cdot \\log \\big(\\sum_{j}^{K}e^{a_{nj}}\\big) \\\\\n",
    "=\\sum_{k\\neq p}^K t_{nk} \\cdot a_{nk} + t_{np} \\cdot a_{np} - \\sum_{k\\neq p}^K t_{nk} \\cdot \\log \\big( \\sum_j^K e^{a_{nj}}\\big) - t_{np} \\cdot \\log \\big( \\sum_j^K e^{a_{nj}} \\big)\n",
    "\\end{multline}\n",
    "\n",
    "\n",
    "\\begin{multline}\n",
    "\\frac{\\delta Q_n}{\\delta a_{np}}=\\frac{\\delta\\big[ \\sum_{k\\neq p}^K t_{nk} \\cdot a_{nk}  \\big]}{\\delta a_{np}} + \\frac{\\delta \\big[t_{np} \\cdot a_{np}\\big]}{\\delta a_{np}} - \\frac{\\delta \\big [ \\sum_{k\\neq p}^K t_{nk} \\cdot \\log (\\sum_j^Ke^{a_{nj}}) \\big]}{\\delta a_{np}} - \\frac{\\delta \\big [ t_{np} \\cdot \\log (\\sum_j^Ke^{a_{nj}}) \\big]}{\\delta a_{np}}\n",
    "= t_{np} - \\Big(\\frac{e^{a_{np}}}{\\sum_{j}^{K}e^{a_{nj}}}\\Big) \\cdot \\sum_{k\\neq p}^K t_{nk} - t_{np} \\cdot \\Big( \\frac{e^{a_{np}}}{\\sum_j^Ke^{a_{nj}}} \\Big) \\\\\n",
    "= t_{np} - y_{nk} \\cdot \\sum_{k=1}^K t_{nk} = t_{np} - y_{np} \\\\\n",
    "\\end{multline}\n",
    "\n",
    "\n",
    "$$\n",
    "\\frac{\\delta a_{np}}{\\delta z_{nq}} = \\frac{\\delta[{w_{p}^{(2)}}^T \\cdot z_{n}]}{\\delta z_{nq}} = \\frac {\\delta [\\sum_j^{M+1}w_{pj}^{(2)} \\cdot z_{nj}]}{\\delta z_{nq}} = w_{pq}^{(2)}\n",
    "$$\n",
    "\n",
    "$$\n",
    "\\frac{\\delta Q_n}{\\delta z_{nq}} = \\frac{\\delta Q_n}{\\delta a_{np}} \\cdot \\frac{\\delta a_{np}}{\\delta z_{nq}} = \\big( t_{np} - y_{np} \\big) \\cdot w_{pq}^{(2)}\n",
    "$$\n",
    "\n",
    "$$\n",
    "o_{nj} = {w_j^{(1)}}^T \\cdot x_n \n",
    "$$\n",
    "\n",
    "$$\n",
    "z_{nj} = h(o_{nj})\n",
    "$$\n",
    "\n",
    "$$\n",
    "\\frac{\\delta z_{nq}}{\\delta o_{nq}} = \\frac{\\delta [h(o_{nq})]}{\\delta o_{nq}} = h'{(o_{nq})}\n",
    "$$\n",
    "\n",
    "$$\n",
    "\\frac{\\delta o_{nq}}{\\delta w_{qm}^{(1)}} = \\frac{\\delta [{w_q^{(1)}}^T \\cdot x_n]}{\\delta w_{qm}^{(1)}} = x_{nm}\n",
    "$$\n",
    "\n",
    "\\begin{multline}\n",
    "\\frac{\\delta E_n}{\\delta w_{qm}^{(1)}} = \\frac{\\delta Q_n}{\\delta z_{nq}} \\cdot \\frac{\\delta z_{nq}}{\\delta o_{nq}} \\cdot \\frac{\\delta o_{nq}}{\\delta w_{qm}^{(1)}} + \\frac{\\delta \\left[ - \\frac{\\lambda}{2} \\cdot \\Vert W^{(2)}\\Vert^2 \\right]}{\\delta w_{qm}^{(1)}} + \\frac{\\delta \\left[ - \\frac{\\lambda}{2} \\cdot \\Vert W^{(1)}\\Vert^2 \\right]}{\\delta w_{qm}^{(1)}}\n",
    "= \\left( t_{np} - y_{np} \\right) \\cdot w_{pq}^{(2)} \\cdot \\left(h'{(o_{nq})}\\right) \\cdot x_{nm} - \\lambda \\cdot w_{qm}\n",
    "= \\left( t_{np} - y_{np} \\right) \\cdot w_{pq}^{(2)} \\cdot \\left(h'{({w_q^{(1)}}^T \\cdot x_n)}\\right) \\cdot x_{nm} - \\lambda \\cdot w_{qm} \\\\\n",
    "\\\\\n",
    "= {\\left(\\left(\\left(T - Y\\right) \\cdot W^{(2)}\\right) \\otimes \\left(h' \\left(X \\cdot {W^{(1)}}^T\\right)\\right)\\right)}^T \\cdot X - \\lambda \\cdot W^{(1)}\n",
    "\\end{multline}\n"
   ],
   "cell_type": "markdown",
   "metadata": {}
  },
  {
   "source": [
    "## Note\n",
    "__We have to remove the first column of (T-Y)*W<sup>(2)</sup> because it was added in matrix Z.__"
   ],
   "cell_type": "markdown",
   "metadata": {}
  }
 ]
}